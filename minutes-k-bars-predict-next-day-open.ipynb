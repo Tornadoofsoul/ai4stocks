{
 "cells": [
  {
   "cell_type": "markdown",
   "metadata": {},
   "source": [
    "### import modules"
   ]
  },
  {
   "cell_type": "code",
   "execution_count": null,
   "metadata": {},
   "outputs": [],
   "source": [
    "import datetime\n",
    "import timeit\n",
    "import gzip\n",
    "import pandas as pd\n",
    "import numpy as np\n",
    "from keras.models import Sequential\n",
    "from keras.layers import Dense, Activation, Flatten\n",
    "\n",
    "K_DIM = 4\n",
    "K_HEADER = ['open','high','low','close']"
   ]
  },
  {
   "cell_type": "markdown",
   "metadata": {},
   "source": [
    "### 读取日K线数据，并计算次日涨幅"
   ]
  },
  {
   "cell_type": "code",
   "execution_count": null,
   "metadata": {
    "collapsed": true
   },
   "outputs": [],
   "source": [
    "# 日K线数据\n",
    "# {\n",
    "#     symbol_1: {\n",
    "#         date_1: {\n",
    "#             'quote': [open, high, low, close, volume, amount, turnover],\n",
    "#             'rise': next_day_open_rise\n",
    "#         }\n",
    "#         date_2: ...\n",
    "#     },\n",
    "#     symbol_2: ...\n",
    "# }\n",
    "def loadDayKLine(filepath):\n",
    "    dayKLines = {}\n",
    "    prevDayData = {}\n",
    "    with gzip.open(filepath, 'rb') as f:\n",
    "        for line in f.readlines():\n",
    "            (symbol, dateTime, quoteString) = line.decode().split(',', 2)\n",
    "            quote = list(map(float, quoteString.replace('None', '0').split(',')))\n",
    "            date = dateTime.split()[0]\n",
    "            openPrice = quote[0]\n",
    "            \n",
    "            if symbol in prevDayData:\n",
    "                lastClose = prevDayData[symbol]['quote'][3]\n",
    "                prevDayData[symbol]['rise'] = openPrice / lastClose - 1\n",
    "\n",
    "            if symbol not in dayKLines:\n",
    "                dayKLines[symbol] = {}\n",
    "                \n",
    "            dayKLines[symbol][date] = prevDayData[symbol] = {\n",
    "                'quote': quote\n",
    "            }\n",
    "            \n",
    "    return dayKLines\n",
    "\n",
    "dayKline = loadDayKLine('data/2016日K线.gz')"
   ]
  },
  {
   "cell_type": "code",
   "execution_count": null,
   "metadata": {},
   "outputs": [],
   "source": [
    "dayKline['SZ002353']['2016-03-03']['quote'][3]"
   ]
  },
  {
   "cell_type": "markdown",
   "metadata": {},
   "source": [
    "### 生成训练数据和验证数据\n",
    "\n",
    "训练数据：\n",
    "\n",
    "* train_x：一只股票一个交易日的240根K线，(240 * K_DIM)\n",
    "* train_y：次日开盘涨幅\n",
    "\n",
    "验证数据\n",
    "\n",
    "* text_x\n",
    "* text_y"
   ]
  },
  {
   "cell_type": "code",
   "execution_count": null,
   "metadata": {},
   "outputs": [],
   "source": [
    "import datetime\n",
    "\n",
    "def loadInput(filepath):\n",
    "    names = ['symbol', 'datetime', 'open', 'high', 'low', 'close', 'volume', 'amount']\n",
    "    df = pd.read_csv(filepath, compression = 'gzip', names = names, header = None)\n",
    "    print(\"process file: \" + filepath, datetime.datetime.now().time())\n",
    "    train_input = np.zeros(shape = (len(df), K_DIM))\n",
    "    print(len(df))\n",
    "    table = []\n",
    "    i = 0\n",
    "\n",
    "    processedStock = 0\n",
    "    for symbol, d1 in df.groupby('symbol'):\n",
    "        if processedStock % 300 == 0:\n",
    "            print(\"data processing...【\" + str(processedStock // 300) + \"0%】\", datetime.datetime.now().time())\n",
    "        stockData = d1.copy(True)\n",
    "        stockData['date'], stockData['time'] = stockData['datetime'].str.split(' ', 1).str\n",
    "        \n",
    "        for date, d2 in stockData.groupby('date'):\n",
    "            if 'rise' not in dayKline[symbol][date]:\n",
    "                continue\n",
    "            dayQuote = d2[K_HEADER].values\n",
    "            if dayQuote.shape != (240, K_DIM):\n",
    "                continue\n",
    "            dayClose = dayQuote[239, 3]\n",
    "            train_input[i * 240 : (i + 1) * 240] = dayQuote\n",
    "            #train_input = train_input / dayClose - 1\n",
    "            table.append((symbol, date))\n",
    "            i += 1\n",
    "        processedStock += 1\n",
    "    \n",
    "    return train_input[ : i * 240].reshape(-1, 240 * K_DIM), table\n",
    "\n",
    "train_x_raw, train_table = loadInput('data/1分钟K线(2016年11月).gz')\n",
    "test_x_raw, test_table = loadInput('data/1分钟K线(2016年12月).gz')\n"
   ]
  },
  {
   "cell_type": "code",
   "execution_count": null,
   "metadata": {},
   "outputs": [],
   "source": [
    "\n",
    "print('数据归一化')\n",
    "train_x = train_x_raw / train_x_raw[...,959].reshape(-1, 1) * 100 - 100\n",
    "test_x = test_x_raw / test_x_raw[...,959].reshape(-1, 1) * 100 - 100\n",
    "print(train_x.shape)\n",
    "print(test_x.shape)\n"
   ]
  },
  {
   "cell_type": "code",
   "execution_count": null,
   "metadata": {},
   "outputs": [],
   "source": [
    "test_x"
   ]
  },
  {
   "cell_type": "code",
   "execution_count": null,
   "metadata": {},
   "outputs": [],
   "source": [
    "def loadOutput(table):\n",
    "    output = np.zeros(shape = (len(table), 2))\n",
    "    i = 0\n",
    "    for symbol, date in table:\n",
    "        output[i][0] = 1 if dayKline[symbol][date]['rise'] > 0.00 else 0 #涨\n",
    "        output[i][1] = 1 if dayKline[symbol][date]['rise'] <= 0.00 else 0 #跌\n",
    "        i += 1\n",
    "    return output #[ : i].reshape(-1, 1)\n",
    "\n",
    "train_y = loadOutput(train_table)\n",
    "print(train_y.shape)\n",
    "print(np.sum(train_y))\n",
    "test_y = loadOutput(test_table)\n",
    "print(test_y.shape)\n"
   ]
  },
  {
   "cell_type": "code",
   "execution_count": null,
   "metadata": {},
   "outputs": [],
   "source": [
    "print('train_y')\n",
    "print(len(train_y))\n",
    "print(np.sum(train_y))\n",
    "print('test_y')\n",
    "print(len(test_y))\n",
    "print(np.sum(test_y))\n",
    "\n",
    "train_y.flatten()"
   ]
  },
  {
   "cell_type": "markdown",
   "metadata": {},
   "source": [
    "### 创建Modal并描述模型拓扑"
   ]
  },
  {
   "cell_type": "code",
   "execution_count": null,
   "metadata": {
    "scrolled": true
   },
   "outputs": [],
   "source": [
    "model = Sequential()\n",
    "model.add(Dense(240 * K_DIM, input_dim=240 * K_DIM, activation='relu'))\n",
    "model.add(Dense(8 * K_DIM, activation='relu'))\n",
    "model.add(Dense(K_DIM, activation='relu'))\n",
    "model.add(Dense(2, activation='sigmoid'))\n",
    "model.add(Dense(2, activation='softmax'))\n",
    "\n",
    "model.summary()"
   ]
  },
  {
   "cell_type": "markdown",
   "metadata": {},
   "source": [
    "### compile and train"
   ]
  },
  {
   "cell_type": "code",
   "execution_count": null,
   "metadata": {},
   "outputs": [],
   "source": [
    "from keras import optimizers\n",
    "from keras.optimizers import RMSprop\n",
    "\n",
    "model.compile(optimizer='adam', loss='mse', metrics=['accuracy'])\n",
    "model.fit(train_x, train_y, epochs=3, batch_size=300)\n"
   ]
  },
  {
   "cell_type": "code",
   "execution_count": null,
   "metadata": {},
   "outputs": [],
   "source": [
    "score = model.evaluate(test_x, test_y, batch_size=300)\n",
    "print(score)"
   ]
  },
  {
   "cell_type": "code",
   "execution_count": null,
   "metadata": {},
   "outputs": [],
   "source": [
    "pred = model.predict(test_x, batch_size=100, verbose=1)"
   ]
  },
  {
   "cell_type": "code",
   "execution_count": null,
   "metadata": {},
   "outputs": [],
   "source": [
    "pred.flatten()[20000:21000]\n"
   ]
  },
  {
   "cell_type": "code",
   "execution_count": null,
   "metadata": {},
   "outputs": [],
   "source": [
    "model.get_weights()"
   ]
  },
  {
   "cell_type": "code",
   "execution_count": null,
   "metadata": {
    "collapsed": true
   },
   "outputs": [],
   "source": []
  },
  {
   "cell_type": "code",
   "execution_count": null,
   "metadata": {
    "collapsed": true
   },
   "outputs": [],
   "source": []
  }
 ],
 "metadata": {
  "kernelspec": {
   "display_name": "Python 3",
   "language": "python",
   "name": "python3"
  },
  "language_info": {
   "codemirror_mode": {
    "name": "ipython",
    "version": 3
   },
   "file_extension": ".py",
   "mimetype": "text/x-python",
   "name": "python",
   "nbconvert_exporter": "python",
   "pygments_lexer": "ipython3",
   "version": "3.6.3"
  }
 },
 "nbformat": 4,
 "nbformat_minor": 2
}
